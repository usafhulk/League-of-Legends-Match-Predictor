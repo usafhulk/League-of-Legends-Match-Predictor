{
 "cells": [
  {
   "cell_type": "markdown",
   "id": "cdcd1b55",
   "metadata": {},
   "source": [
    "# League of Legends Match Predictor"
   ]
  },
  {
   "cell_type": "markdown",
   "id": "140692b9",
   "metadata": {},
   "source": [
    "### Project introduction <br/>\n",
    "LeLeague of Legends, a popular multiplayer online battle arena (MOBA) game, generates extensive data from matches, providing an excellent opportunity to apply machine learning techniques to real-world scenarios. I will be building a logistic regression model aimed at predicting the outcomes of League of Legends matches.  \n",
    "\n",
    "Use the [league_of_legends_data_large.csv](https://cf-courses-data.s3.us.cloud-object-storage.appdomain.cloud/rk7VDaPjMp1h5VXS-cUyMg/league-of-legends-data-large.csv) file to perform the tasks. "
   ]
  },
  {
   "cell_type": "code",
   "execution_count": 1,
   "id": "cc80366a",
   "metadata": {},
   "outputs": [],
   "source": [
    "import pandas as pd\n",
    "from sklearn.model_selection import train_test_split\n",
    "from sklearn.preprocessing import StandardScaler\n",
    "import torch\n",
    "from torch.utils.data import DataLoader, TensorDataset\n",
    "import torch.nn as nn\n",
    "import torch.optim as optim\n",
    "import matplotlib.pyplot as plt"
   ]
  },
  {
   "cell_type": "code",
   "execution_count": 2,
   "id": "b0838491",
   "metadata": {},
   "outputs": [
    {
     "name": "stdout",
     "output_type": "stream",
     "text": [
      "   win  kills  deaths  assists  gold_earned   cs  wards_placed  wards_killed  \\\n",
      "0    0     16       6       19        17088  231            11             7   \n",
      "1    1      8       8        5        14865  259            10             2   \n",
      "2    0      0      17       11        15919  169            14             5   \n",
      "3    0     19      11        1        11534  264            14             3   \n",
      "4    0     12       7        6        18926  124            15             7   \n",
      "\n",
      "   damage_dealt  \n",
      "0         15367  \n",
      "1         38332  \n",
      "2         24642  \n",
      "3         15789  \n",
      "4         40268  \n",
      "              win        kills       deaths      assists   gold_earned  \\\n",
      "count  1000.00000  1000.000000  1000.000000  1000.000000   1000.000000   \n",
      "mean      0.51000     9.332000     9.487000     9.395000  12433.808000   \n",
      "std       0.50015     5.798569     5.773488     5.765086   4388.138751   \n",
      "min       0.00000     0.000000     0.000000     0.000000   5002.000000   \n",
      "25%       0.00000     4.000000     4.000000     4.000000   8551.750000   \n",
      "50%       1.00000     9.000000     9.000000    10.000000  12295.000000   \n",
      "75%       1.00000    14.000000    14.000000    14.000000  16348.250000   \n",
      "max       1.00000    19.000000    19.000000    19.000000  19955.000000   \n",
      "\n",
      "               cs  wards_placed  wards_killed  damage_dealt  \n",
      "count  1000.00000   1000.000000   1000.000000   1000.000000  \n",
      "mean    181.21300      9.834000      4.541000  27484.905000  \n",
      "std      72.11491      5.739633      2.906332  13221.571932  \n",
      "min      50.00000      0.000000      0.000000   5028.000000  \n",
      "25%     121.00000      5.000000      2.000000  15759.000000  \n",
      "50%     183.50000     10.000000      5.000000  27370.000000  \n",
      "75%     243.00000     15.000000      7.000000  39453.000000  \n",
      "max     299.00000     19.000000      9.000000  49927.000000  \n",
      "<class 'pandas.core.frame.DataFrame'>\n",
      "RangeIndex: 1000 entries, 0 to 999\n",
      "Data columns (total 9 columns):\n",
      " #   Column        Non-Null Count  Dtype\n",
      "---  ------        --------------  -----\n",
      " 0   win           1000 non-null   int64\n",
      " 1   kills         1000 non-null   int64\n",
      " 2   deaths        1000 non-null   int64\n",
      " 3   assists       1000 non-null   int64\n",
      " 4   gold_earned   1000 non-null   int64\n",
      " 5   cs            1000 non-null   int64\n",
      " 6   wards_placed  1000 non-null   int64\n",
      " 7   wards_killed  1000 non-null   int64\n",
      " 8   damage_dealt  1000 non-null   int64\n",
      "dtypes: int64(9)\n",
      "memory usage: 70.4 KB\n",
      "None\n"
     ]
    }
   ],
   "source": [
    "LoL = pd.read_csv('league_of_legends_data_large.csv')  # Load the League of Legends dataset from a CSV file into a DataFrame\n",
    "\n",
    "print(LoL.head())      # Print the first five rows of the DataFrame to get a quick look at the data\n",
    "print(LoL.describe())  # Print summary statistics (mean, std, min, max, etc.) for numerical columns\n",
    "print(LoL.info())      # Print concise summary of the DataFrame, including column types and non-null counts"
   ]
  },
  {
   "cell_type": "code",
   "execution_count": 4,
   "id": "62b84f0b",
   "metadata": {},
   "outputs": [],
   "source": [
    "# Splitting the Data in features and target\n",
    "X = LoL.drop('win', axis=1)  # Features: all columns except 'win'\n",
    "y = LoL['win']               # Target: the 'win' column\n",
    "\n",
    "# Splitting data into train, test, and validation \n",
    "# First split: split off 20% of the data for validation, keep 80% for training/testing\n",
    "X_temp, X_val, y_temp, y_val = train_test_split(X, y, test_size=0.20, random_state=42)  # 20% validation, 80% temp\n",
    "\n",
    "# Second Split: split the remaining 80% into 75% train and 25% test (results in 60% train, 20% test)\n",
    "X_train, X_test, y_train, y_test = train_test_split(X_temp, y_temp, test_size=0.25, random_state=42)  # 25% of 80% is 20%"
   ]
  },
  {
   "cell_type": "markdown",
   "id": "1a64c409",
   "metadata": {},
   "source": []
  }
 ],
 "metadata": {
  "kernelspec": {
   "display_name": "tf_gpu_clean",
   "language": "python",
   "name": "python3"
  },
  "language_info": {
   "codemirror_mode": {
    "name": "ipython",
    "version": 3
   },
   "file_extension": ".py",
   "mimetype": "text/x-python",
   "name": "python",
   "nbconvert_exporter": "python",
   "pygments_lexer": "ipython3",
   "version": "3.10.16"
  }
 },
 "nbformat": 4,
 "nbformat_minor": 5
}
